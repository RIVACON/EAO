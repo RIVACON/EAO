{
 "cells": [
  {
   "cell_type": "markdown",
   "metadata": {},
   "source": [
    "### EAO - easy and straight forward optimization of energy setups"
   ]
  },
  {
   "cell_type": "markdown",
   "metadata": {},
   "source": [
    "#### Import required packages"
   ]
  },
  {
   "cell_type": "code",
   "execution_count": 1,
   "metadata": {},
   "outputs": [],
   "source": [
    "import os, sys\n",
    "# in case eao is not installed, set path\n",
    "#myDir = os.path.join(os.getcwd(), '../..')\n",
    "#sys.path.append(myDir)\n",
    "#addDir = os.path.join(os.getcwd(), '../../../..')\n",
    "#sys.path.append(addDir)\n",
    "import eaopack as eao\n",
    "import pandas as pd\n",
    "import datetime as dt\n",
    "import matplotlib.pyplot as plt"
   ]
  },
  {
   "cell_type": "markdown",
   "metadata": {},
   "source": [
    "#### Load data & make assumptions\n",
    "In this case we load a year of hourly power market data for Germany. Downloaded from smard.de (Bundesnetzagentur | SMARD.de); 01/11/2023 - 01/11/2024. We will use day ahead prices as well as PV production profiles. In addition we will use a standard load profile of German commercial consumers.\n",
    "\n",
    "We make some basic assumptions on grid fees for commercial consumers (actual example for 2025 in the medium voltage grid) and define the characteristics on site: yearly consumption, own PV and battery."
   ]
  },
  {
   "cell_type": "code",
   "execution_count": 2,
   "metadata": {},
   "outputs": [],
   "source": [
    "data = pd.read_excel('DE_dataset.xlsx')\n",
    "data.set_index('Date', inplace=True)\n",
    "\n",
    "### at > 2500 FLH\n",
    "grid_fees = {}\n",
    "grid_fees['fix'] = 166000 # €/MW\n",
    "grid_fees['var'] =     13 # €/MWh\n",
    "\n",
    "######################### settings\n",
    "cons    = 500 # MWh # total consumption per year (scaling the profile)\n",
    "cap_pv  = 0.25 # MW (1000 flh) capacity of the on-site PV\n",
    "battery_data = {} # capacity, size and efficiency of an on-site battery\n",
    "battery_data['cap']  =  .25 # 250 kW\n",
    "battery_data['size'] = 2 * battery_data['cap'] # 2 hours\n",
    "battery_data['eff']  = 0.9 # 90% cycle efficiency"
   ]
  },
  {
   "cell_type": "markdown",
   "metadata": {},
   "source": [
    "For the actual optimization we need to do some settings: Defining the time grid for optimization and defining which data to use in our assets."
   ]
  },
  {
   "cell_type": "code",
   "execution_count": 3,
   "metadata": {},
   "outputs": [],
   "source": [
    "######## prepare everything\n",
    "## basics\n",
    "S = dt.date(2023,11,1)\n",
    "E = dt.date(2024,11,1)\n",
    "timegrid = eao.Timegrid(S, E, freq = 'h') # hourly\n",
    "\n",
    "## settings\n",
    "input_ts = pd.DataFrame()\n",
    "input_ts['cons']  = -data['SLP gewerbe']*cons\n",
    "input_ts['pv']    =  data['pv profile']*cap_pv\n",
    "input_ts['price'] =  data['price dah']\n",
    "\n",
    "# cast to timegrid\n",
    "input_ts = timegrid.prices_to_grid(input_ts)"
   ]
  },
  {
   "cell_type": "markdown",
   "metadata": {},
   "source": [
    "Now we define the structure of our optimization problem -- our portfolio. The assets may be physical assets such as the battery or contracts such as supply via the grid."
   ]
  },
  {
   "cell_type": "code",
   "execution_count": 4,
   "metadata": {},
   "outputs": [],
   "source": [
    "### Structural setup, distinguishing own assets and supply from the grid\n",
    "behind_meter = eao.Node('behind meter')\n",
    "front_of_meter = eao.Node('front of meter')\n",
    "\n",
    "### Here: No flexibility in our consumption. Easily changed by adjusting min_cap/max_cap\n",
    "consumption = eao.assets.SimpleContract(name       = 'consumption', \n",
    "                                        nodes      = behind_meter,\n",
    "                                        min_cap    = 'cons',\n",
    "                                        max_cap    = 'cons')\n",
    "### Our own PV module. Also here without flexibility -- easily changed\n",
    "pv          = eao.assets.SimpleContract(name       = 'pv', \n",
    "                                        nodes      = behind_meter,\n",
    "                                        min_cap    = 'pv',\n",
    "                                        max_cap    = 'pv')\n",
    "### An on-site battery constituting out flexibility\n",
    "battery     = eao.assets.Storage(       name       = 'battery',\n",
    "                                        nodes      = behind_meter,\n",
    "                                        cap_in     = battery_data['cap'],\n",
    "                                        cap_out    = battery_data['cap'],                                        \n",
    "                                        eff_in     = battery_data['eff'],\n",
    "                                        size       = battery_data['size'],\n",
    "                                        start_level= 0.5 * battery_data['size'],\n",
    "                                        end_level  = 0.5 * battery_data['size'],\n",
    "                                        block_size = 'd',   # daily optimization of battery (leaving it 1/2 full every day)\n",
    "                                        no_simult_in_out = False) # Important: The battery may now charge and discharge at the same time and\n",
    "                                                                  # \"burn\" power due to efficiency < 100%. This makes computation much faster (no MIP)\n",
    "\n",
    "### Supply via the grid. Note that we enabling scaling the grid connection -- since grid fees \n",
    "#   apply on a yearly basis for the maximum load (which we will minimize utilizing our battery)\n",
    "supply  = eao.assets.SimpleContract(    name = 'supply', \n",
    "                                        nodes       = front_of_meter, \n",
    "                                        price       = 'price',\n",
    "                                        extra_costs = .5,  # fee from supplier\n",
    "                                        min_cap     = 0,\n",
    "                                        max_cap     = 1)\n",
    "grid_feedin = eao.assets.Transport(     name   = 'grid_out',  # unlimited feed in capacity\n",
    "                                        nodes  = [behind_meter, front_of_meter],\n",
    "                                        min_cap = 0,\n",
    "                                        max_cap = 1)\n",
    "grid_consumption_normed = eao.assets.Transport(name   = 'grid_in_normed', \n",
    "                                               nodes  = [front_of_meter, behind_meter],\n",
    "                                               costs_const = grid_fees['var'], # variable grid fees\n",
    "                                               min_cap= 0,\n",
    "                                               max_cap= 1) # normed capacity (to 1 MW)\n",
    "grid_consumption      = eao.assets.ScaledAsset(name       = 'grid_in',\n",
    "                                               base_asset = grid_consumption_normed,\n",
    "                                               max_scale  = 1000,\n",
    "                                               fix_costs  = grid_fees['fix']/8760) # yearly fix capacity costs (here scaled to hourly as main time unit)\n",
    "### We can feed in our PV own production - here at day ahead prices. If there are feed-in tariffs, price can easily be changed\n",
    "feedin     = eao.assets.SimpleContract(name        = 'feedin', \n",
    "                                       nodes       = front_of_meter, \n",
    "                                       price       = 'price', # assuming no feed in tariff\n",
    "                                       min_cap     = -1000,\n",
    "                                       max_cap     = 0)\n",
    "portf = eao.Portfolio([supply, consumption, grid_feedin, grid_consumption, pv, feedin, battery])"
   ]
  },
  {
   "cell_type": "markdown",
   "metadata": {},
   "source": [
    "This is how the portfolio looks like. See below. We could set it up in a  simpler way (without distinction into in-front-of-the-meter and behind-the-meter). However, this way everything becomes very explicit in formulation as well as later analysis."
   ]
  },
  {
   "cell_type": "code",
   "execution_count": 5,
   "metadata": {},
   "outputs": [
    {
     "data": {
      "image/png": "[encoded data removed]",
      "text/plain": [
       "<Figure size 640x480 with 1 Axes>"
      ]
     },
     "metadata": {},
     "output_type": "display_data"
    }
   ],
   "source": [
    "eao.network_graphs.create_graph(portf)"
   ]
  },
  {
   "cell_type": "markdown",
   "metadata": {},
   "source": [
    "#### Optimization\n",
    "\n",
    "The actual optimization is very simple. We collect all assets in the portfolio object and go. \"extract_output\" will generate straight-forward tables that can also be exported to Excel. Note that we are optimizing a full year on an hourly basis including a battery. This takes ~1 min."
   ]
  },
  {
   "cell_type": "code",
   "execution_count": 6,
   "metadata": {},
   "outputs": [
    {
     "name": "stdout",
     "output_type": "stream",
     "text": [
      "                 Values\n",
      "Parameter              \n",
      "status       successful\n",
      "value     -29974.687926\n"
     ]
    }
   ],
   "source": [
    "out = eao.optimize(portf=portf, timegrid=timegrid, data=input_ts)\n",
    "print(out['summary'])\n",
    "eao.io.output_to_file(output=out, file_name='test.xlsx') ### All details. Have look into the file"
   ]
  },
  {
   "cell_type": "markdown",
   "metadata": {},
   "source": [
    "Defining the benchmark to calculate the value of the battery: The same portfolio without the battery"
   ]
  },
  {
   "cell_type": "code",
   "execution_count": 7,
   "metadata": {},
   "outputs": [],
   "source": [
    "portf_benchmark = eao.portfolio.Portfolio([supply, consumption, grid_feedin, grid_consumption, pv, feedin])\n",
    "out_benchmark   = eao.optimize(portf=portf_benchmark, timegrid=timegrid, data=input_ts)"
   ]
  },
  {
   "cell_type": "markdown",
   "metadata": {},
   "source": [
    "#### Interpretation of the results\n",
    "\n",
    "Let us analyze the overall costs with and without battery and look into the dispatch behaviour"
   ]
  },
  {
   "cell_type": "code",
   "execution_count": 8,
   "metadata": {},
   "outputs": [
    {
     "name": "stdout",
     "output_type": "stream",
     "text": [
      "Overall costs with battery:    29975\n",
      "Overall costs without battery: 49494\n",
      "So the battery saved us:       19519\n"
     ]
    }
   ],
   "source": [
    "print('Overall costs with battery:    '+ str(round(-out['summary'].loc['value', 'Values'])))\n",
    "print('Overall costs without battery: '+ str(round(-out_benchmark['summary'].loc['value', 'Values'])))\n",
    "print('So the battery saved us:       '+ str(round(out['summary'].loc['value', 'Values'] - out_benchmark['summary'].loc['value', 'Values'])))"
   ]
  },
  {
   "cell_type": "markdown",
   "metadata": {},
   "source": [
    "There is a significant saving. But where does the saving come from? Let us look into the details, starting with the overall quantities. See below. Note how quantities are always balanced at nodes. Transport always balances as well -- transporting from one node to the other.\n",
    "\n",
    "Check out the output \"out\" in detail. It contains detailed dispatch, cash flows and internal variables such as battery fill levels."
   ]
  },
  {
   "cell_type": "code",
   "execution_count": 9,
   "metadata": {},
   "outputs": [
    {
     "name": "stdout",
     "output_type": "stream",
     "text": [
      "Quantities (MWh) with battery:\n",
      ".................................... \n",
      "supply (front of meter)       376.0\n",
      "consumption (behind meter)   -500.0\n",
      "grid_out (behind meter)      -103.0\n",
      "grid_out (front of meter)     103.0\n",
      "grid_in (front of meter)     -376.0\n",
      "grid_in (behind meter)        376.0\n",
      "pv (behind meter)             250.0\n",
      "feedin (front of meter)      -103.0\n",
      "battery (behind meter)        -23.0\n",
      "dtype: float64\n",
      "\n",
      "Quantities (MWh) without battery:\n",
      ".................................... \n",
      "supply (front of meter)       310.0\n",
      "consumption (behind meter)   -500.0\n",
      "grid_out (behind meter)       -60.0\n",
      "grid_out (front of meter)      60.0\n",
      "grid_in (front of meter)     -310.0\n",
      "grid_in (behind meter)        310.0\n",
      "pv (behind meter)             250.0\n",
      "feedin (front of meter)       -60.0\n",
      "dtype: float64\n"
     ]
    }
   ],
   "source": [
    "print('Quantities (MWh) with battery:\\n.................................... \\n'+str(round(out['dispatch'].sum())))\n",
    "print()\n",
    "print('Quantities (MWh) without battery:\\n.................................... \\n'+str(round(out_benchmark['dispatch'].sum())))"
   ]
  },
  {
   "cell_type": "code",
   "execution_count": 10,
   "metadata": {},
   "outputs": [
    {
     "name": "stdout",
     "output_type": "stream",
     "text": [
      "Costs (EUR) with battery:\n",
      ".................................... \n",
      "supply        -26178.0\n",
      "consumption        0.0\n",
      "grid_out           0.0\n",
      "grid_in       -15948.0\n",
      "pv                 0.0\n",
      "feedin         12152.0\n",
      "battery            0.0\n",
      "dtype: float64\n",
      "Total:  -29975.0\n",
      "\n",
      "Costs (EUR) without battery:\n",
      ".................................... \n",
      "supply        -27711.0\n",
      "consumption        0.0\n",
      "grid_out           0.0\n",
      "grid_in       -22788.0\n",
      "pv                 0.0\n",
      "feedin          1006.0\n",
      "dtype: float64\n",
      "Total:  -49494.0\n",
      "\n"
     ]
    }
   ],
   "source": [
    "print('Costs (EUR) with battery:\\n.................................... \\n'+str(round(out['DCF'].sum())))\n",
    "print('Total:  '+ str(out['DCF'].sum().sum().round())+'\\n')\n",
    "print('Costs (EUR) without battery:\\n.................................... \\n'+str(round(out_benchmark['DCF'].sum())))\n",
    "print('Total:  '+ str(out_benchmark['DCF'].sum().sum().round())+'\\n')"
   ]
  },
  {
   "cell_type": "markdown",
   "metadata": {},
   "source": [
    "There are two contributions:\n",
    "* supply & PV: we are utilizing the battery to maximize own consumption, mainly to avoid variable grid fees\n",
    "* battery & grid: we try to minimize peak load (capacity fee)\n",
    "* battery arbitrage: utilizing the battery to consume from grid in cheap hours and feed in in expensive hours\n",
    "\n",
    "Everything is optimized in a consistent manner in one go!\n",
    "\n",
    "The grid connection is a special case: Besides avoiding variable grid fees, we're sizing the capacity over the course of the year, utilizing the battery to reduce peaks. Here the results. \"Value\" gives the required capacity:"
   ]
  },
  {
   "cell_type": "code",
   "execution_count": 11,
   "metadata": {},
   "outputs": [
    {
     "name": "stdout",
     "output_type": "stream",
     "text": [
      "Grid fixed costs (EUR) with battery:\n",
      ".................................................. \n",
      "     asset variable   name  value     costs\n",
      "0  grid_in     size  scale  0.066  11058.95\n",
      "\n",
      "Grid fixed costs (EUR) without battery:\n",
      ".................................................. \n",
      "     asset variable   name  value      costs\n",
      "0  grid_in     size  scale  0.113  18754.337\n"
     ]
    }
   ],
   "source": [
    "print('Grid fixed costs (EUR) with battery:\\n.................................................. \\n'+str(out['special'].round(3))+'\\n')\n",
    "print('Grid fixed costs (EUR) without battery:\\n.................................................. \\n'+str(out_benchmark['special'].round(3)))"
   ]
  },
  {
   "cell_type": "markdown",
   "metadata": {},
   "source": [
    "#### Another benchmark: Own PV\n",
    "To make the picture more complete, let us add another step in the benchmark: to compute the value of the own PV (i.e. a portfolio without PV and battery as the overall starting point)"
   ]
  },
  {
   "cell_type": "code",
   "execution_count": 12,
   "metadata": {},
   "outputs": [],
   "source": [
    "portf_start = eao.portfolio.Portfolio([supply, consumption, grid_feedin, grid_consumption, feedin])\n",
    "out_start   = eao.optimize(portf=portf_start, timegrid=timegrid, data=input_ts)"
   ]
  },
  {
   "cell_type": "markdown",
   "metadata": {},
   "source": [
    "#### Putting everything together\n",
    "\n",
    "Let us now put all the data together to analyze the effects of our PV and battery assets. Naturally, we could also do this in Excel, using the output generated by the optimization. This may feel more natural to many users."
   ]
  },
  {
   "cell_type": "code",
   "execution_count": 13,
   "metadata": {},
   "outputs": [],
   "source": [
    "## bookkeeping - looking at cost components in different scenarios. Attention - costs are negative numbers\n",
    "start  = -out_start['summary'].loc['value', 'Values'] # no assets\n",
    "with_pv = -out_benchmark['summary'].loc['value', 'Values']  # PV, no battery\n",
    "saving_supply = -((out_benchmark['DCF']['supply'].sum() + out_benchmark['DCF']['feedin'].sum())- (out['DCF']['supply'].sum() + out['DCF']['feedin'].sum()))\n",
    "saving_grid   = -(out_benchmark['DCF']['grid_in'].sum() - out['DCF']['grid_in'].sum())"
   ]
  },
  {
   "cell_type": "code",
   "execution_count": 14,
   "metadata": {},
   "outputs": [
    {
     "data": {
      "image/png": "[encoded data removed]",
      "text/plain": [
       "<Figure size 1000x500 with 1 Axes>"
      ]
     },
     "metadata": {},
     "output_type": "display_data"
    }
   ],
   "source": [
    "## create a waterfall chart. Thanks for the great module provided by the waterfall_ax team! Very handy\n",
    "from waterfall_ax import WaterfallChart\n",
    "import warnings\n",
    "warnings.filterwarnings('ignore')\n",
    "import matplotlib.pyplot as plt\n",
    "\n",
    "# Cumulative values\n",
    "step_names = ['Start: grid supply only', 'savings PV',          'battery: savings supply','and grid fees']\n",
    "step_values = [start,                     with_pv,               with_pv-saving_supply,    with_pv-saving_supply-saving_grid]\n",
    "last_step_label = 'Total'\n",
    "color_kwargs = {\n",
    "    'c_bar_pos': 'lightgreen',\n",
    "    'c_bar_neg': 'orange',\n",
    "    'c_bar_start': 'grey',\n",
    "    'c_bar_end': 'grey',\n",
    "    'c_text_pos': 'black',    \n",
    "    'c_text_neg': 'black',\n",
    "    'c_text_start': 'black',\n",
    "    'c_text_end': 'black'\n",
    "}\n",
    "# Plot\n",
    "waterfall = WaterfallChart(step_values, step_names=step_names, last_step_label=last_step_label)\n",
    "wf_ax = waterfall.plot_waterfall(title='Reducing power costs with own PV and battery', color_kwargs=color_kwargs)\n",
    "plt.ylabel('yearly costs in EUR')\n",
    "wf_ax.get_yaxis().set_visible(True)\n",
    "plt.show()"
   ]
  },
  {
   "cell_type": "markdown",
   "metadata": {},
   "source": [
    "... that was it! No rocket science, as you see."
   ]
  }
 ],
 "metadata": {
  "kernelspec": {
   "display_name": "my_env",
   "language": "python",
   "name": "python3"
  },
  "language_info": {
   "codemirror_mode": {
    "name": "ipython",
    "version": 3
   },
   "file_extension": ".py",
   "mimetype": "text/x-python",
   "name": "python",
   "nbconvert_exporter": "python",
   "pygments_lexer": "ipython3",
   "version": "3.12.9"
  }
 },
 "nbformat": 4,
 "nbformat_minor": 2
}
